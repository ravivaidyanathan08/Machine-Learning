{
 "cells": [
  {
   "cell_type": "code",
   "execution_count": 2,
   "id": "fd23214c-7000-4bfb-9da8-66e7c9f0834c",
   "metadata": {},
   "outputs": [],
   "source": [
    "## Load the required libraries\n",
    "\n",
    "import numpy as np\n",
    "import tensorflow as tf\n",
    "from tensorflow.keras.datasets import imdb\n",
    "from tensorflow.keras.preprocessing i##mport sequence\n",
    "from tensorflow.keras.models import load_model"
   ]
  },
  {
   "cell_type": "code",
   "execution_count": 3,
   "id": "c1342aea-69d7-4bc8-9398-9efc0c57ce3a",
   "metadata": {},
   "outputs": [],
   "source": [
    "## Load the imdb dataset word index\n",
    "word_index = imdb.get_word_index()\n",
    "reverse_word_index = {value:key for key,value in word_index.items()}"
   ]
  },
  {
   "cell_type": "code",
   "execution_count": 4,
   "id": "baca0aa3-3de7-494b-91e6-1690111b1774",
   "metadata": {},
   "outputs": [
    {
     "name": "stderr",
     "output_type": "stream",
     "text": [
      "WARNING:absl:Compiled the loaded model, but the compiled metrics have yet to be built. `model.compile_metrics` will be empty until you train or evaluate the model.\n"
     ]
    }
   ],
   "source": [
    "## Load the model\n",
    "model = load_model('simple_rnn_imdb.h5')"
   ]
  },
  {
   "cell_type": "code",
   "execution_count": 5,
   "id": "fa01dcc9-cf62-4a66-86dd-f2c403f4d81f",
   "metadata": {},
   "outputs": [
    {
     "data": {
      "text/html": [
       "<pre style=\"white-space:pre;overflow-x:auto;line-height:normal;font-family:Menlo,'DejaVu Sans Mono',consolas,'Courier New',monospace\"><span style=\"font-weight: bold\">Model: \"sequential\"</span>\n",
       "</pre>\n"
      ],
      "text/plain": [
       "\u001b[1mModel: \"sequential\"\u001b[0m\n"
      ]
     },
     "metadata": {},
     "output_type": "display_data"
    },
    {
     "data": {
      "text/html": [
       "<pre style=\"white-space:pre;overflow-x:auto;line-height:normal;font-family:Menlo,'DejaVu Sans Mono',consolas,'Courier New',monospace\">┏━━━━━━━━━━━━━━━━━━━━━━━━━━━━━━━━━┳━━━━━━━━━━━━━━━━━━━━━━━━┳━━━━━━━━━━━━━━━┓\n",
       "┃<span style=\"font-weight: bold\"> Layer (type)                    </span>┃<span style=\"font-weight: bold\"> Output Shape           </span>┃<span style=\"font-weight: bold\">       Param # </span>┃\n",
       "┡━━━━━━━━━━━━━━━━━━━━━━━━━━━━━━━━━╇━━━━━━━━━━━━━━━━━━━━━━━━╇━━━━━━━━━━━━━━━┩\n",
       "│ embedding (<span style=\"color: #0087ff; text-decoration-color: #0087ff\">Embedding</span>)           │ (<span style=\"color: #00d7ff; text-decoration-color: #00d7ff\">None</span>, <span style=\"color: #00af00; text-decoration-color: #00af00\">500</span>, <span style=\"color: #00af00; text-decoration-color: #00af00\">128</span>)       │     <span style=\"color: #00af00; text-decoration-color: #00af00\">1,280,000</span> │\n",
       "├─────────────────────────────────┼────────────────────────┼───────────────┤\n",
       "│ simple_rnn (<span style=\"color: #0087ff; text-decoration-color: #0087ff\">SimpleRNN</span>)          │ (<span style=\"color: #00d7ff; text-decoration-color: #00d7ff\">None</span>, <span style=\"color: #00af00; text-decoration-color: #00af00\">128</span>)            │        <span style=\"color: #00af00; text-decoration-color: #00af00\">32,896</span> │\n",
       "├─────────────────────────────────┼────────────────────────┼───────────────┤\n",
       "│ dense (<span style=\"color: #0087ff; text-decoration-color: #0087ff\">Dense</span>)                   │ (<span style=\"color: #00d7ff; text-decoration-color: #00d7ff\">None</span>, <span style=\"color: #00af00; text-decoration-color: #00af00\">1</span>)              │           <span style=\"color: #00af00; text-decoration-color: #00af00\">129</span> │\n",
       "└─────────────────────────────────┴────────────────────────┴───────────────┘\n",
       "</pre>\n"
      ],
      "text/plain": [
       "┏━━━━━━━━━━━━━━━━━━━━━━━━━━━━━━━━━┳━━━━━━━━━━━━━━━━━━━━━━━━┳━━━━━━━━━━━━━━━┓\n",
       "┃\u001b[1m \u001b[0m\u001b[1mLayer (type)                   \u001b[0m\u001b[1m \u001b[0m┃\u001b[1m \u001b[0m\u001b[1mOutput Shape          \u001b[0m\u001b[1m \u001b[0m┃\u001b[1m \u001b[0m\u001b[1m      Param #\u001b[0m\u001b[1m \u001b[0m┃\n",
       "┡━━━━━━━━━━━━━━━━━━━━━━━━━━━━━━━━━╇━━━━━━━━━━━━━━━━━━━━━━━━╇━━━━━━━━━━━━━━━┩\n",
       "│ embedding (\u001b[38;5;33mEmbedding\u001b[0m)           │ (\u001b[38;5;45mNone\u001b[0m, \u001b[38;5;34m500\u001b[0m, \u001b[38;5;34m128\u001b[0m)       │     \u001b[38;5;34m1,280,000\u001b[0m │\n",
       "├─────────────────────────────────┼────────────────────────┼───────────────┤\n",
       "│ simple_rnn (\u001b[38;5;33mSimpleRNN\u001b[0m)          │ (\u001b[38;5;45mNone\u001b[0m, \u001b[38;5;34m128\u001b[0m)            │        \u001b[38;5;34m32,896\u001b[0m │\n",
       "├─────────────────────────────────┼────────────────────────┼───────────────┤\n",
       "│ dense (\u001b[38;5;33mDense\u001b[0m)                   │ (\u001b[38;5;45mNone\u001b[0m, \u001b[38;5;34m1\u001b[0m)              │           \u001b[38;5;34m129\u001b[0m │\n",
       "└─────────────────────────────────┴────────────────────────┴───────────────┘\n"
      ]
     },
     "metadata": {},
     "output_type": "display_data"
    },
    {
     "data": {
      "text/html": [
       "<pre style=\"white-space:pre;overflow-x:auto;line-height:normal;font-family:Menlo,'DejaVu Sans Mono',consolas,'Courier New',monospace\"><span style=\"font-weight: bold\"> Total params: </span><span style=\"color: #00af00; text-decoration-color: #00af00\">1,313,027</span> (5.01 MB)\n",
       "</pre>\n"
      ],
      "text/plain": [
       "\u001b[1m Total params: \u001b[0m\u001b[38;5;34m1,313,027\u001b[0m (5.01 MB)\n"
      ]
     },
     "metadata": {},
     "output_type": "display_data"
    },
    {
     "data": {
      "text/html": [
       "<pre style=\"white-space:pre;overflow-x:auto;line-height:normal;font-family:Menlo,'DejaVu Sans Mono',consolas,'Courier New',monospace\"><span style=\"font-weight: bold\"> Trainable params: </span><span style=\"color: #00af00; text-decoration-color: #00af00\">1,313,025</span> (5.01 MB)\n",
       "</pre>\n"
      ],
      "text/plain": [
       "\u001b[1m Trainable params: \u001b[0m\u001b[38;5;34m1,313,025\u001b[0m (5.01 MB)\n"
      ]
     },
     "metadata": {},
     "output_type": "display_data"
    },
    {
     "data": {
      "text/html": [
       "<pre style=\"white-space:pre;overflow-x:auto;line-height:normal;font-family:Menlo,'DejaVu Sans Mono',consolas,'Courier New',monospace\"><span style=\"font-weight: bold\"> Non-trainable params: </span><span style=\"color: #00af00; text-decoration-color: #00af00\">0</span> (0.00 B)\n",
       "</pre>\n"
      ],
      "text/plain": [
       "\u001b[1m Non-trainable params: \u001b[0m\u001b[38;5;34m0\u001b[0m (0.00 B)\n"
      ]
     },
     "metadata": {},
     "output_type": "display_data"
    },
    {
     "data": {
      "text/html": [
       "<pre style=\"white-space:pre;overflow-x:auto;line-height:normal;font-family:Menlo,'DejaVu Sans Mono',consolas,'Courier New',monospace\"><span style=\"font-weight: bold\"> Optimizer params: </span><span style=\"color: #00af00; text-decoration-color: #00af00\">2</span> (12.00 B)\n",
       "</pre>\n"
      ],
      "text/plain": [
       "\u001b[1m Optimizer params: \u001b[0m\u001b[38;5;34m2\u001b[0m (12.00 B)\n"
      ]
     },
     "metadata": {},
     "output_type": "display_data"
    }
   ],
   "source": [
    "model.summary()"
   ]
  },
  {
   "cell_type": "raw",
   "id": "fb586a40-5243-4bbb-9c53-f367d9130c12",
   "metadata": {},
   "source": [
    "model.get_weights()"
   ]
  },
  {
   "cell_type": "code",
   "execution_count": 15,
   "id": "97b2c1b5-a85d-4dd7-a27e-3b6029dd824d",
   "metadata": {},
   "outputs": [],
   "source": [
    "## Helper functions\n",
    "## Function to decode review\n",
    "\n",
    "def decode_review(encoded_review):\n",
    "    return ' '.join([reverse_word_index.get(i-3, '?') for i in encoded_review])\n",
    "\n",
    "## Function to preprocess user input\n",
    "\n",
    "def preprocess_text(text):\n",
    "    words = text.lower().split()\n",
    "    encoded_review = [word_index.get(word,2) +3 for word in words]\n",
    "    padded_sequence = sequence.pad_sequences([encoded_review],maxlen=500)\n",
    "    return padded_sequence\n",
    "                      \n",
    "\n",
    "    "
   ]
  },
  {
   "cell_type": "code",
   "execution_count": 16,
   "id": "06114c48-7462-4297-9807-526d5c7013fb",
   "metadata": {},
   "outputs": [],
   "source": [
    "## Prediction function\n",
    "def predict_sentiment(review):\n",
    "    preprocessed_input = preprocess_text(review)\n",
    "    prediction = model.predict(preprocessed_input)\n",
    "    sentiment = 'Positive' if prediction[0][0] > 0.5 else 'Negative'\n",
    "    return sentiment, prediction[0][0]"
   ]
  },
  {
   "cell_type": "code",
   "execution_count": 17,
   "id": "1013ebbd-03d0-4d82-ad52-3acdccb5174f",
   "metadata": {},
   "outputs": [],
   "source": [
    "## User input and prediction\n",
    "example_review = \"This movie was fantastic! The acting was great and the plot was thrilling\""
   ]
  },
  {
   "cell_type": "code",
   "execution_count": 18,
   "id": "836657f6-ba74-4452-8da4-81bff98c4f16",
   "metadata": {},
   "outputs": [
    {
     "name": "stdout",
     "output_type": "stream",
     "text": [
      "\u001b[1m1/1\u001b[0m \u001b[32m━━━━━━━━━━━━━━━━━━━━\u001b[0m\u001b[37m\u001b[0m \u001b[1m0s\u001b[0m 485ms/step\n"
     ]
    }
   ],
   "source": [
    "sentiment, score = predict_sentiment(example_review)"
   ]
  },
  {
   "cell_type": "code",
   "execution_count": 20,
   "id": "979e6982-e06b-44ef-91c7-1231c402d5d7",
   "metadata": {},
   "outputs": [
    {
     "name": "stdout",
     "output_type": "stream",
     "text": [
      "Review: This movie was fantastic! The acting was great and the plot was thrilling\n",
      "Prediction: Positive\n",
      "Sentiment Score 0.6726189255714417\n"
     ]
    }
   ],
   "source": [
    "print(f'Review: {example_review}')\n",
    "print(f'Prediction: {sentiment}')\n",
    "print(f'Sentiment Score {score}')"
   ]
  },
  {
   "cell_type": "code",
   "execution_count": 21,
   "id": "64099d76-6b0d-45f5-bad6-0870c30ea151",
   "metadata": {},
   "outputs": [
    {
     "ename": "ModuleNotFoundError",
     "evalue": "No module named 'streamlit'",
     "output_type": "error",
     "traceback": [
      "\u001b[1;31m---------------------------------------------------------------------------\u001b[0m",
      "\u001b[1;31mModuleNotFoundError\u001b[0m                       Traceback (most recent call last)",
      "Cell \u001b[1;32mIn[21], line 2\u001b[0m\n\u001b[0;32m      1\u001b[0m \u001b[38;5;66;03m## Streamlit application\u001b[39;00m\n\u001b[1;32m----> 2\u001b[0m \u001b[38;5;28;01mimport\u001b[39;00m\u001b[38;5;250m \u001b[39m\u001b[38;5;21;01mstreamlit\u001b[39;00m\u001b[38;5;250m \u001b[39m\u001b[38;5;28;01mas\u001b[39;00m\u001b[38;5;250m \u001b[39m\u001b[38;5;21;01mst\u001b[39;00m\n",
      "\u001b[1;31mModuleNotFoundError\u001b[0m: No module named 'streamlit'"
     ]
    }
   ],
   "source": [
    "## Streamlit application\n",
    "import streamlit as st"
   ]
  },
  {
   "cell_type": "code",
   "execution_count": 22,
   "id": "79fa2059-89c5-47b0-a40a-1be82c01ee56",
   "metadata": {},
   "outputs": [
    {
     "name": "stdout",
     "output_type": "stream",
     "text": [
      "Collecting streamlit\n",
      "  Downloading streamlit-1.49.1-py3-none-any.whl.metadata (9.5 kB)\n",
      "Collecting altair!=5.4.0,!=5.4.1,<6,>=4.0 (from streamlit)\n",
      "  Using cached altair-5.5.0-py3-none-any.whl.metadata (11 kB)\n",
      "Collecting blinker<2,>=1.5.0 (from streamlit)\n",
      "  Using cached blinker-1.9.0-py3-none-any.whl.metadata (1.6 kB)\n",
      "Collecting cachetools<7,>=4.0 (from streamlit)\n",
      "  Downloading cachetools-6.2.0-py3-none-any.whl.metadata (5.4 kB)\n",
      "Collecting click<9,>=7.0 (from streamlit)\n",
      "  Downloading click-8.2.1-py3-none-any.whl.metadata (2.5 kB)\n",
      "Requirement already satisfied: numpy<3,>=1.23 in c:\\users\\raviv\\venv_ann\\lib\\site-packages (from streamlit) (2.2.6)\n",
      "Requirement already satisfied: packaging<26,>=20 in c:\\users\\raviv\\venv_ann\\lib\\site-packages (from streamlit) (25.0)\n",
      "Collecting pandas<3,>=1.4.0 (from streamlit)\n",
      "  Downloading pandas-2.3.2-cp310-cp310-win_amd64.whl.metadata (19 kB)\n",
      "Requirement already satisfied: pillow<12,>=7.1.0 in c:\\users\\raviv\\venv_ann\\lib\\site-packages (from streamlit) (11.3.0)\n",
      "Requirement already satisfied: protobuf<7,>=3.20 in c:\\users\\raviv\\venv_ann\\lib\\site-packages (from streamlit) (6.32.0)\n",
      "Collecting pyarrow>=7.0 (from streamlit)\n",
      "  Downloading pyarrow-21.0.0-cp310-cp310-win_amd64.whl.metadata (3.4 kB)\n",
      "Requirement already satisfied: requests<3,>=2.27 in c:\\users\\raviv\\venv_ann\\lib\\site-packages (from streamlit) (2.32.5)\n",
      "Collecting tenacity<10,>=8.1.0 (from streamlit)\n",
      "  Using cached tenacity-9.1.2-py3-none-any.whl.metadata (1.2 kB)\n",
      "Collecting toml<2,>=0.10.1 (from streamlit)\n",
      "  Using cached toml-0.10.2-py2.py3-none-any.whl.metadata (7.1 kB)\n",
      "Requirement already satisfied: typing-extensions<5,>=4.4.0 in c:\\users\\raviv\\venv_ann\\lib\\site-packages (from streamlit) (4.14.1)\n",
      "Collecting watchdog<7,>=2.1.5 (from streamlit)\n",
      "  Using cached watchdog-6.0.0-py3-none-win_amd64.whl.metadata (44 kB)\n",
      "Collecting gitpython!=3.1.19,<4,>=3.0.7 (from streamlit)\n",
      "  Downloading gitpython-3.1.45-py3-none-any.whl.metadata (13 kB)\n",
      "Collecting pydeck<1,>=0.8.0b4 (from streamlit)\n",
      "  Using cached pydeck-0.9.1-py2.py3-none-any.whl.metadata (4.1 kB)\n",
      "Requirement already satisfied: tornado!=6.5.0,<7,>=6.0.3 in c:\\users\\raviv\\venv_ann\\lib\\site-packages (from streamlit) (6.5.1)\n",
      "Collecting jinja2 (from altair!=5.4.0,!=5.4.1,<6,>=4.0->streamlit)\n",
      "  Downloading jinja2-3.1.6-py3-none-any.whl.metadata (2.9 kB)\n",
      "Collecting jsonschema>=3.0 (from altair!=5.4.0,!=5.4.1,<6,>=4.0->streamlit)\n",
      "  Downloading jsonschema-4.25.1-py3-none-any.whl.metadata (7.6 kB)\n",
      "Collecting narwhals>=1.14.2 (from altair!=5.4.0,!=5.4.1,<6,>=4.0->streamlit)\n",
      "  Downloading narwhals-2.3.0-py3-none-any.whl.metadata (11 kB)\n",
      "Requirement already satisfied: colorama in c:\\users\\raviv\\venv_ann\\lib\\site-packages (from click<9,>=7.0->streamlit) (0.4.6)\n",
      "Collecting gitdb<5,>=4.0.1 (from gitpython!=3.1.19,<4,>=3.0.7->streamlit)\n",
      "  Using cached gitdb-4.0.12-py3-none-any.whl.metadata (1.2 kB)\n",
      "Collecting smmap<6,>=3.0.1 (from gitdb<5,>=4.0.1->gitpython!=3.1.19,<4,>=3.0.7->streamlit)\n",
      "  Using cached smmap-5.0.2-py3-none-any.whl.metadata (4.3 kB)\n",
      "Requirement already satisfied: python-dateutil>=2.8.2 in c:\\users\\raviv\\venv_ann\\lib\\site-packages (from pandas<3,>=1.4.0->streamlit) (2.9.0.post0)\n",
      "Collecting pytz>=2020.1 (from pandas<3,>=1.4.0->streamlit)\n",
      "  Downloading pytz-2025.2-py2.py3-none-any.whl.metadata (22 kB)\n",
      "Collecting tzdata>=2022.7 (from pandas<3,>=1.4.0->streamlit)\n",
      "  Downloading tzdata-2025.2-py2.py3-none-any.whl.metadata (1.4 kB)\n",
      "Requirement already satisfied: charset_normalizer<4,>=2 in c:\\users\\raviv\\venv_ann\\lib\\site-packages (from requests<3,>=2.27->streamlit) (3.4.3)\n",
      "Requirement already satisfied: idna<4,>=2.5 in c:\\users\\raviv\\venv_ann\\lib\\site-packages (from requests<3,>=2.27->streamlit) (3.10)\n",
      "Requirement already satisfied: urllib3<3,>=1.21.1 in c:\\users\\raviv\\venv_ann\\lib\\site-packages (from requests<3,>=2.27->streamlit) (2.5.0)\n",
      "Requirement already satisfied: certifi>=2017.4.17 in c:\\users\\raviv\\venv_ann\\lib\\site-packages (from requests<3,>=2.27->streamlit) (2025.8.3)\n",
      "Requirement already satisfied: MarkupSafe>=2.0 in c:\\users\\raviv\\venv_ann\\lib\\site-packages (from jinja2->altair!=5.4.0,!=5.4.1,<6,>=4.0->streamlit) (3.0.2)\n",
      "Collecting attrs>=22.2.0 (from jsonschema>=3.0->altair!=5.4.0,!=5.4.1,<6,>=4.0->streamlit)\n",
      "  Downloading attrs-25.3.0-py3-none-any.whl.metadata (10 kB)\n",
      "Collecting jsonschema-specifications>=2023.03.6 (from jsonschema>=3.0->altair!=5.4.0,!=5.4.1,<6,>=4.0->streamlit)\n",
      "  Downloading jsonschema_specifications-2025.4.1-py3-none-any.whl.metadata (2.9 kB)\n",
      "Collecting referencing>=0.28.4 (from jsonschema>=3.0->altair!=5.4.0,!=5.4.1,<6,>=4.0->streamlit)\n",
      "  Downloading referencing-0.36.2-py3-none-any.whl.metadata (2.8 kB)\n",
      "Collecting rpds-py>=0.7.1 (from jsonschema>=3.0->altair!=5.4.0,!=5.4.1,<6,>=4.0->streamlit)\n",
      "  Downloading rpds_py-0.27.1-cp310-cp310-win_amd64.whl.metadata (4.3 kB)\n",
      "Requirement already satisfied: six>=1.5 in c:\\users\\raviv\\venv_ann\\lib\\site-packages (from python-dateutil>=2.8.2->pandas<3,>=1.4.0->streamlit) (1.17.0)\n",
      "Downloading streamlit-1.49.1-py3-none-any.whl (10.0 MB)\n",
      "   ---------------------------------------- 0.0/10.0 MB ? eta -:--:--\n",
      "   ---- ----------------------------------- 1.0/10.0 MB 5.6 MB/s eta 0:00:02\n",
      "   ---------- ----------------------------- 2.6/10.0 MB 6.6 MB/s eta 0:00:02\n",
      "   ----------------- ---------------------- 4.5/10.0 MB 7.4 MB/s eta 0:00:01\n",
      "   ------------------------ --------------- 6.0/10.0 MB 7.5 MB/s eta 0:00:01\n",
      "   ------------------------------- -------- 7.9/10.0 MB 7.8 MB/s eta 0:00:01\n",
      "   ---------------------------------------  10.0/10.0 MB 8.1 MB/s eta 0:00:01\n",
      "   ---------------------------------------- 10.0/10.0 MB 7.9 MB/s  0:00:01\n",
      "Using cached altair-5.5.0-py3-none-any.whl (731 kB)\n",
      "Using cached blinker-1.9.0-py3-none-any.whl (8.5 kB)\n",
      "Downloading cachetools-6.2.0-py3-none-any.whl (11 kB)\n",
      "Downloading click-8.2.1-py3-none-any.whl (102 kB)\n",
      "Downloading gitpython-3.1.45-py3-none-any.whl (208 kB)\n",
      "Using cached gitdb-4.0.12-py3-none-any.whl (62 kB)\n",
      "Downloading pandas-2.3.2-cp310-cp310-win_amd64.whl (11.3 MB)\n",
      "   ---------------------------------------- 0.0/11.3 MB ? eta -:--:--\n",
      "   ----- ---------------------------------- 1.6/11.3 MB 9.3 MB/s eta 0:00:02\n",
      "   ------------ --------------------------- 3.7/11.3 MB 9.5 MB/s eta 0:00:01\n",
      "   -------------------- ------------------- 5.8/11.3 MB 9.8 MB/s eta 0:00:01\n",
      "   -------------------------- ------------- 7.6/11.3 MB 9.6 MB/s eta 0:00:01\n",
      "   --------------------------------- ------ 9.4/11.3 MB 9.3 MB/s eta 0:00:01\n",
      "   -------------------------------------- - 11.0/11.3 MB 9.0 MB/s eta 0:00:01\n",
      "   ---------------------------------------- 11.3/11.3 MB 8.9 MB/s  0:00:01\n",
      "Using cached pydeck-0.9.1-py2.py3-none-any.whl (6.9 MB)\n",
      "Using cached smmap-5.0.2-py3-none-any.whl (24 kB)\n",
      "Using cached tenacity-9.1.2-py3-none-any.whl (28 kB)\n",
      "Using cached toml-0.10.2-py2.py3-none-any.whl (16 kB)\n",
      "Using cached watchdog-6.0.0-py3-none-win_amd64.whl (79 kB)\n",
      "Downloading jinja2-3.1.6-py3-none-any.whl (134 kB)\n",
      "Downloading jsonschema-4.25.1-py3-none-any.whl (90 kB)\n",
      "Downloading attrs-25.3.0-py3-none-any.whl (63 kB)\n",
      "Downloading jsonschema_specifications-2025.4.1-py3-none-any.whl (18 kB)\n",
      "Downloading narwhals-2.3.0-py3-none-any.whl (404 kB)\n",
      "Downloading pyarrow-21.0.0-cp310-cp310-win_amd64.whl (26.2 MB)\n",
      "   ---------------------------------------- 0.0/26.2 MB ? eta -:--:--\n",
      "   -- ------------------------------------- 1.6/26.2 MB 7.6 MB/s eta 0:00:04\n",
      "   ----- ---------------------------------- 3.4/26.2 MB 8.4 MB/s eta 0:00:03\n",
      "   -------- ------------------------------- 5.5/26.2 MB 9.1 MB/s eta 0:00:03\n",
      "   ----------- ---------------------------- 7.3/26.2 MB 9.1 MB/s eta 0:00:03\n",
      "   ------------- -------------------------- 9.2/26.2 MB 9.0 MB/s eta 0:00:02\n",
      "   ----------------- ---------------------- 11.3/26.2 MB 9.1 MB/s eta 0:00:02\n",
      "   -------------------- ------------------- 13.4/26.2 MB 9.3 MB/s eta 0:00:02\n",
      "   ----------------------- ---------------- 15.2/26.2 MB 9.4 MB/s eta 0:00:02\n",
      "   -------------------------- ------------- 17.6/26.2 MB 9.5 MB/s eta 0:00:01\n",
      "   ----------------------------- ---------- 19.4/26.2 MB 9.4 MB/s eta 0:00:01\n",
      "   -------------------------------- ------- 21.5/26.2 MB 9.5 MB/s eta 0:00:01\n",
      "   ----------------------------------- ---- 23.1/26.2 MB 9.4 MB/s eta 0:00:01\n",
      "   ------------------------------------ --- 24.1/26.2 MB 9.0 MB/s eta 0:00:01\n",
      "   ------------------------------------- -- 24.9/26.2 MB 8.7 MB/s eta 0:00:01\n",
      "   ---------------------------------------  26.2/26.2 MB 8.6 MB/s eta 0:00:01\n",
      "   ---------------------------------------- 26.2/26.2 MB 8.3 MB/s  0:00:03\n",
      "Downloading pytz-2025.2-py2.py3-none-any.whl (509 kB)\n",
      "Downloading referencing-0.36.2-py3-none-any.whl (26 kB)\n",
      "Downloading rpds_py-0.27.1-cp310-cp310-win_amd64.whl (228 kB)\n",
      "Downloading tzdata-2025.2-py2.py3-none-any.whl (347 kB)\n",
      "Installing collected packages: pytz, watchdog, tzdata, toml, tenacity, smmap, rpds-py, pyarrow, narwhals, jinja2, click, cachetools, blinker, attrs, referencing, pydeck, pandas, gitdb, jsonschema-specifications, gitpython, jsonschema, altair, streamlit\n",
      "\n",
      "   ----------------------------------------  0/23 [pytz]\n",
      "   ----------------------------------------  0/23 [pytz]\n",
      "   - --------------------------------------  1/23 [watchdog]\n",
      "   --- ------------------------------------  2/23 [tzdata]\n",
      "   --- ------------------------------------  2/23 [tzdata]\n",
      "   --- ------------------------------------  2/23 [tzdata]\n",
      "   ----- ----------------------------------  3/23 [toml]\n",
      "   ------------ ---------------------------  7/23 [pyarrow]\n",
      "   ------------ ---------------------------  7/23 [pyarrow]\n",
      "   ------------ ---------------------------  7/23 [pyarrow]\n",
      "   ------------ ---------------------------  7/23 [pyarrow]\n",
      "   ------------ ---------------------------  7/23 [pyarrow]\n",
      "   ------------ ---------------------------  7/23 [pyarrow]\n",
      "   ------------ ---------------------------  7/23 [pyarrow]\n",
      "   ------------ ---------------------------  7/23 [pyarrow]\n",
      "   ------------ ---------------------------  7/23 [pyarrow]\n",
      "   ------------ ---------------------------  7/23 [pyarrow]\n",
      "   ------------ ---------------------------  7/23 [pyarrow]\n",
      "   ------------ ---------------------------  7/23 [pyarrow]\n",
      "   ------------ ---------------------------  7/23 [pyarrow]\n",
      "   ------------ ---------------------------  7/23 [pyarrow]\n",
      "   ------------ ---------------------------  7/23 [pyarrow]\n",
      "   ------------- --------------------------  8/23 [narwhals]\n",
      "   ------------- --------------------------  8/23 [narwhals]\n",
      "   ------------- --------------------------  8/23 [narwhals]\n",
      "   ------------- --------------------------  8/23 [narwhals]\n",
      "   ------------- --------------------------  8/23 [narwhals]\n",
      "   --------------- ------------------------  9/23 [jinja2]\n",
      "   ----------------- ---------------------- 10/23 [click]\n",
      "   ------------------- -------------------- 11/23 [cachetools]\n",
      "   ---------------------- ----------------- 13/23 [attrs]\n",
      "   -------------------------- ------------- 15/23 [pydeck]\n",
      "   -------------------------- ------------- 15/23 [pydeck]\n",
      "   --------------------------- ------------ 16/23 [pandas]\n",
      "   --------------------------- ------------ 16/23 [pandas]\n",
      "   --------------------------- ------------ 16/23 [pandas]\n",
      "   --------------------------- ------------ 16/23 [pandas]\n",
      "   --------------------------- ------------ 16/23 [pandas]\n",
      "   --------------------------- ------------ 16/23 [pandas]\n",
      "   --------------------------- ------------ 16/23 [pandas]\n",
      "   --------------------------- ------------ 16/23 [pandas]\n",
      "   --------------------------- ------------ 16/23 [pandas]\n",
      "   --------------------------- ------------ 16/23 [pandas]\n",
      "   --------------------------- ------------ 16/23 [pandas]\n",
      "   --------------------------- ------------ 16/23 [pandas]\n",
      "   --------------------------- ------------ 16/23 [pandas]\n",
      "   --------------------------- ------------ 16/23 [pandas]\n",
      "   --------------------------- ------------ 16/23 [pandas]\n",
      "   --------------------------- ------------ 16/23 [pandas]\n",
      "   --------------------------- ------------ 16/23 [pandas]\n",
      "   --------------------------- ------------ 16/23 [pandas]\n",
      "   --------------------------- ------------ 16/23 [pandas]\n",
      "   --------------------------- ------------ 16/23 [pandas]\n",
      "   --------------------------- ------------ 16/23 [pandas]\n",
      "   --------------------------- ------------ 16/23 [pandas]\n",
      "   --------------------------- ------------ 16/23 [pandas]\n",
      "   --------------------------- ------------ 16/23 [pandas]\n",
      "   --------------------------- ------------ 16/23 [pandas]\n",
      "   --------------------------- ------------ 16/23 [pandas]\n",
      "   --------------------------- ------------ 16/23 [pandas]\n",
      "   --------------------------- ------------ 16/23 [pandas]\n",
      "   --------------------------- ------------ 16/23 [pandas]\n",
      "   --------------------------- ------------ 16/23 [pandas]\n",
      "   --------------------------- ------------ 16/23 [pandas]\n",
      "   --------------------------- ------------ 16/23 [pandas]\n",
      "   --------------------------- ------------ 16/23 [pandas]\n",
      "   --------------------------- ------------ 16/23 [pandas]\n",
      "   --------------------------- ------------ 16/23 [pandas]\n",
      "   --------------------------- ------------ 16/23 [pandas]\n",
      "   --------------------------- ------------ 16/23 [pandas]\n",
      "   --------------------------- ------------ 16/23 [pandas]\n",
      "   --------------------------- ------------ 16/23 [pandas]\n",
      "   --------------------------- ------------ 16/23 [pandas]\n",
      "   --------------------------- ------------ 16/23 [pandas]\n",
      "   --------------------------- ------------ 16/23 [pandas]\n",
      "   --------------------------- ------------ 16/23 [pandas]\n",
      "   --------------------------- ------------ 16/23 [pandas]\n",
      "   --------------------------- ------------ 16/23 [pandas]\n",
      "   --------------------------- ------------ 16/23 [pandas]\n",
      "   --------------------------- ------------ 16/23 [pandas]\n",
      "   --------------------------- ------------ 16/23 [pandas]\n",
      "   --------------------------- ------------ 16/23 [pandas]\n",
      "   --------------------------- ------------ 16/23 [pandas]\n",
      "   --------------------------- ------------ 16/23 [pandas]\n",
      "   --------------------------- ------------ 16/23 [pandas]\n",
      "   --------------------------- ------------ 16/23 [pandas]\n",
      "   --------------------------- ------------ 16/23 [pandas]\n",
      "   --------------------------- ------------ 16/23 [pandas]\n",
      "   --------------------------- ------------ 16/23 [pandas]\n",
      "   --------------------------- ------------ 16/23 [pandas]\n",
      "   --------------------------- ------------ 16/23 [pandas]\n",
      "   --------------------------- ------------ 16/23 [pandas]\n",
      "   --------------------------- ------------ 16/23 [pandas]\n",
      "   --------------------------- ------------ 16/23 [pandas]\n",
      "   --------------------------- ------------ 16/23 [pandas]\n",
      "   --------------------------- ------------ 16/23 [pandas]\n",
      "   --------------------------- ------------ 16/23 [pandas]\n",
      "   --------------------------- ------------ 16/23 [pandas]\n",
      "   --------------------------- ------------ 16/23 [pandas]\n",
      "   --------------------------- ------------ 16/23 [pandas]\n",
      "   ----------------------------- ---------- 17/23 [gitdb]\n",
      "   --------------------------------- ------ 19/23 [gitpython]\n",
      "   ---------------------------------- ----- 20/23 [jsonschema]\n",
      "   ---------------------------------- ----- 20/23 [jsonschema]\n",
      "   ------------------------------------ --- 21/23 [altair]\n",
      "   ------------------------------------ --- 21/23 [altair]\n",
      "   -------------------------------------- - 22/23 [streamlit]\n",
      "   -------------------------------------- - 22/23 [streamlit]\n",
      "   -------------------------------------- - 22/23 [streamlit]\n",
      "   -------------------------------------- - 22/23 [streamlit]\n",
      "   -------------------------------------- - 22/23 [streamlit]\n",
      "   -------------------------------------- - 22/23 [streamlit]\n",
      "   -------------------------------------- - 22/23 [streamlit]\n",
      "   -------------------------------------- - 22/23 [streamlit]\n",
      "   -------------------------------------- - 22/23 [streamlit]\n",
      "   -------------------------------------- - 22/23 [streamlit]\n",
      "   -------------------------------------- - 22/23 [streamlit]\n",
      "   ---------------------------------------- 23/23 [streamlit]\n",
      "\n",
      "Successfully installed altair-5.5.0 attrs-25.3.0 blinker-1.9.0 cachetools-6.2.0 click-8.2.1 gitdb-4.0.12 gitpython-3.1.45 jinja2-3.1.6 jsonschema-4.25.1 jsonschema-specifications-2025.4.1 narwhals-2.3.0 pandas-2.3.2 pyarrow-21.0.0 pydeck-0.9.1 pytz-2025.2 referencing-0.36.2 rpds-py-0.27.1 smmap-5.0.2 streamlit-1.49.1 tenacity-9.1.2 toml-0.10.2 tzdata-2025.2 watchdog-6.0.0\n",
      "Note: you may need to restart the kernel to use updated packages.\n"
     ]
    }
   ],
   "source": [
    "pip install streamlit"
   ]
  },
  {
   "cell_type": "code",
   "execution_count": 23,
   "id": "5f2b9bec-eda2-460f-9a22-8db936175674",
   "metadata": {},
   "outputs": [],
   "source": [
    "import streamlit as st"
   ]
  },
  {
   "cell_type": "code",
   "execution_count": 24,
   "id": "cb592e6a-11d1-4d87-9483-98c5a5724307",
   "metadata": {},
   "outputs": [
    {
     "name": "stderr",
     "output_type": "stream",
     "text": [
      "2025-09-04 12:07:53.925 Thread 'MainThread': missing ScriptRunContext! This warning can be ignored when running in bare mode.\n",
      "2025-09-04 12:07:53.926 Thread 'MainThread': missing ScriptRunContext! This warning can be ignored when running in bare mode.\n",
      "2025-09-04 12:07:53.926 Thread 'MainThread': missing ScriptRunContext! This warning can be ignored when running in bare mode.\n",
      "2025-09-04 12:07:53.927 Thread 'MainThread': missing ScriptRunContext! This warning can be ignored when running in bare mode.\n",
      "2025-09-04 12:07:53.928 Thread 'MainThread': missing ScriptRunContext! This warning can be ignored when running in bare mode.\n",
      "2025-09-04 12:07:53.928 Thread 'MainThread': missing ScriptRunContext! This warning can be ignored when running in bare mode.\n"
     ]
    }
   ],
   "source": [
    "st.title('IMDB Movie Review Sentiment Analysis')\n",
    "st.write('Enter a movie review to classify it as positive or negative')"
   ]
  },
  {
   "cell_type": "code",
   "execution_count": 25,
   "id": "4b2f8939-c7b4-4166-8bea-e63d6f6baa75",
   "metadata": {},
   "outputs": [
    {
     "name": "stderr",
     "output_type": "stream",
     "text": [
      "2025-09-04 12:23:24.614 Thread 'MainThread': missing ScriptRunContext! This warning can be ignored when running in bare mode.\n",
      "2025-09-04 12:23:24.615 Thread 'MainThread': missing ScriptRunContext! This warning can be ignored when running in bare mode.\n",
      "2025-09-04 12:23:24.616 Thread 'MainThread': missing ScriptRunContext! This warning can be ignored when running in bare mode.\n",
      "2025-09-04 12:23:24.617 Thread 'MainThread': missing ScriptRunContext! This warning can be ignored when running in bare mode.\n",
      "2025-09-04 12:23:24.617 Session state does not function when running a script without `streamlit run`\n",
      "2025-09-04 12:23:24.620 Thread 'MainThread': missing ScriptRunContext! This warning can be ignored when running in bare mode.\n",
      "2025-09-04 12:23:24.622 Thread 'MainThread': missing ScriptRunContext! This warning can be ignored when running in bare mode.\n",
      "2025-09-04 12:23:24.623 Thread 'MainThread': missing ScriptRunContext! This warning can be ignored when running in bare mode.\n",
      "2025-09-04 12:23:24.625 Thread 'MainThread': missing ScriptRunContext! This warning can be ignored when running in bare mode.\n",
      "2025-09-04 12:23:24.628 Thread 'MainThread': missing ScriptRunContext! This warning can be ignored when running in bare mode.\n",
      "2025-09-04 12:23:24.630 Thread 'MainThread': missing ScriptRunContext! This warning can be ignored when running in bare mode.\n",
      "2025-09-04 12:23:24.631 Thread 'MainThread': missing ScriptRunContext! This warning can be ignored when running in bare mode.\n",
      "2025-09-04 12:23:24.633 Thread 'MainThread': missing ScriptRunContext! This warning can be ignored when running in bare mode.\n",
      "2025-09-04 12:23:24.634 Thread 'MainThread': missing ScriptRunContext! This warning can be ignored when running in bare mode.\n",
      "2025-09-04 12:23:24.639 Thread 'MainThread': missing ScriptRunContext! This warning can be ignored when running in bare mode.\n",
      "2025-09-04 12:23:24.640 Thread 'MainThread': missing ScriptRunContext! This warning can be ignored when running in bare mode.\n",
      "2025-09-04 12:23:24.642 Thread 'MainThread': missing ScriptRunContext! This warning can be ignored when running in bare mode.\n"
     ]
    }
   ],
   "source": [
    "## User Review\n",
    "user_review = st.text_area('Movie Review')\n",
    "\n",
    "if st.button('Classify'):\n",
    "    preprocessed_input = preprocess_text(user_review)\n",
    "    ## Make Prediction\n",
    "    sentiment = 'Positive' if prediction[0][0] > 0.5 else 'Negative'\n",
    "    ## Display the result\n",
    "    st.write(f\"Sentiment: {sentiment}\")\n",
    "    st.write(f\"Prediction Score: {prediction[0][0]}\")\n",
    "else:\n",
    "    st.write(\"Please enter a movie review\")\n",
    "    "
   ]
  },
  {
   "cell_type": "code",
   "execution_count": null,
   "id": "61b208b2-850d-4361-bf41-f5107e905b68",
   "metadata": {},
   "outputs": [],
   "source": []
  }
 ],
 "metadata": {
  "kernelspec": {
   "display_name": "ANN Environment",
   "language": "python",
   "name": "venv_ann"
  },
  "language_info": {
   "codemirror_mode": {
    "name": "ipython",
    "version": 3
   },
   "file_extension": ".py",
   "mimetype": "text/x-python",
   "name": "python",
   "nbconvert_exporter": "python",
   "pygments_lexer": "ipython3",
   "version": "3.10.5"
  }
 },
 "nbformat": 4,
 "nbformat_minor": 5
}
